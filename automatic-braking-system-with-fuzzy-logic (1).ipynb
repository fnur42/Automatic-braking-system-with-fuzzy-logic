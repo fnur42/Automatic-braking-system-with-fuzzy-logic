{
 "cells": [
  {
   "cell_type": "markdown",
   "id": "0cd4c906",
   "metadata": {
    "papermill": {
     "duration": 0.005191,
     "end_time": "2024-05-01T14:18:30.019148",
     "exception": false,
     "start_time": "2024-05-01T14:18:30.013957",
     "status": "completed"
    },
    "tags": []
   },
   "source": [
    "# **Importing Fuzzy Logic Libraries**"
   ]
  },
  {
   "cell_type": "code",
   "execution_count": 1,
   "id": "c0508108",
   "metadata": {
    "execution": {
     "iopub.execute_input": "2024-05-01T14:18:30.031458Z",
     "iopub.status.busy": "2024-05-01T14:18:30.030623Z",
     "iopub.status.idle": "2024-05-01T14:18:52.581358Z",
     "shell.execute_reply": "2024-05-01T14:18:52.579993Z"
    },
    "papermill": {
     "duration": 22.560136,
     "end_time": "2024-05-01T14:18:52.584371",
     "exception": false,
     "start_time": "2024-05-01T14:18:30.024235",
     "status": "completed"
    },
    "tags": []
   },
   "outputs": [
    {
     "name": "stdout",
     "output_type": "stream",
     "text": [
      "Collecting scikit-fuzzy\r\n",
      "  Downloading scikit-fuzzy-0.4.2.tar.gz (993 kB)\r\n",
      "\u001b[2K     \u001b[90m━━━━━━━━━━━━━━━━━━━━━━━━━━━━━━━━━━━━━━\u001b[0m \u001b[32m994.0/994.0 kB\u001b[0m \u001b[31m19.1 MB/s\u001b[0m eta \u001b[36m0:00:00\u001b[0m\r\n",
      "\u001b[?25h  Preparing metadata (setup.py) ... \u001b[?25l-\b \b\\\b \b|\b \b/\b \b-\b \bdone\r\n",
      "\u001b[?25hRequirement already satisfied: numpy>=1.6.0 in /opt/conda/lib/python3.10/site-packages (from scikit-fuzzy) (1.26.4)\r\n",
      "Requirement already satisfied: scipy>=0.9.0 in /opt/conda/lib/python3.10/site-packages (from scikit-fuzzy) (1.11.4)\r\n",
      "Requirement already satisfied: networkx>=1.9.0 in /opt/conda/lib/python3.10/site-packages (from scikit-fuzzy) (3.2.1)\r\n",
      "Building wheels for collected packages: scikit-fuzzy\r\n",
      "  Building wheel for scikit-fuzzy (setup.py) ... \u001b[?25l-\b \b\\\b \b|\b \b/\b \b-\b \b\\\b \b|\b \bdone\r\n",
      "\u001b[?25h  Created wheel for scikit-fuzzy: filename=scikit_fuzzy-0.4.2-py3-none-any.whl size=894077 sha256=6da2b24c86f94fc477b2098d12a3f50b3d64fb45de567795bdc19e94bfe24d12\r\n",
      "  Stored in directory: /root/.cache/pip/wheels/4f/86/1b/dfd97134a2c8313e519bcebd95d3fedc7be7944db022094bc8\r\n",
      "Successfully built scikit-fuzzy\r\n",
      "Installing collected packages: scikit-fuzzy\r\n",
      "Successfully installed scikit-fuzzy-0.4.2\r\n"
     ]
    }
   ],
   "source": [
    "!pip install scikit-fuzzy\n",
    "\n",
    "import numpy as mat\n",
    "import skfuzzy as mantik\n",
    "from skfuzzy import control as kontrol"
   ]
  },
  {
   "cell_type": "markdown",
   "id": "37461353",
   "metadata": {
    "papermill": {
     "duration": 0.006705,
     "end_time": "2024-05-01T14:18:52.597904",
     "exception": false,
     "start_time": "2024-05-01T14:18:52.591199",
     "status": "completed"
    },
    "tags": []
   },
   "source": [
    "# **Set input and output parameters**"
   ]
  },
  {
   "cell_type": "code",
   "execution_count": 2,
   "id": "ccae8914",
   "metadata": {
    "execution": {
     "iopub.execute_input": "2024-05-01T14:18:52.613043Z",
     "iopub.status.busy": "2024-05-01T14:18:52.612584Z",
     "iopub.status.idle": "2024-05-01T14:18:52.619281Z",
     "shell.execute_reply": "2024-05-01T14:18:52.618080Z"
    },
    "papermill": {
     "duration": 0.017643,
     "end_time": "2024-05-01T14:18:52.622186",
     "exception": false,
     "start_time": "2024-05-01T14:18:52.604543",
     "status": "completed"
    },
    "tags": []
   },
   "outputs": [],
   "source": [
    "#Input Parameters\n",
    "mesafe = kontrol.Antecedent(mat.arange(0, 50, 1), 'mesafe')\n",
    "hiz = kontrol.Antecedent( mat.arange(0, 100, 1), 'hiz')\n",
    "#Output Parameters\n",
    "fren_basinci = kontrol.Consequent(mat.arange(0, 100, 1),'fren_basinci')"
   ]
  },
  {
   "cell_type": "markdown",
   "id": "9acebfdf",
   "metadata": {
    "papermill": {
     "duration": 0.00633,
     "end_time": "2024-05-01T14:18:52.635293",
     "exception": false,
     "start_time": "2024-05-01T14:18:52.628963",
     "status": "completed"
    },
    "tags": []
   },
   "source": [
    "# **Variable naming**"
   ]
  },
  {
   "cell_type": "markdown",
   "id": "4205ad9a",
   "metadata": {
    "papermill": {
     "duration": 0.006284,
     "end_time": "2024-05-01T14:18:52.648338",
     "exception": false,
     "start_time": "2024-05-01T14:18:52.642054",
     "status": "completed"
    },
    "tags": []
   },
   "source": [
    "> Bu aralıklar, belirli bir uygulama senaryosuna ve kullanılacak veriye bağlı olarak seçilir. Genellikle, uygulamanın gereksinimlerine en iyi uyacak şekilde değişken aralıkları belirlenir. Bu nedenle, belirli bir durum için değişken sayısı ve aralıkları seçiminde bir esneklik vardır."
   ]
  },
  {
   "cell_type": "code",
   "execution_count": 3,
   "id": "042ac8dc",
   "metadata": {
    "_cell_guid": "b1076dfc-b9ad-4769-8c92-a6c4dae69d19",
    "_uuid": "8f2839f25d086af736a60e9eeb907d3b93b6e0e5",
    "execution": {
     "iopub.execute_input": "2024-05-01T14:18:52.664079Z",
     "iopub.status.busy": "2024-05-01T14:18:52.663257Z",
     "iopub.status.idle": "2024-05-01T14:18:52.680345Z",
     "shell.execute_reply": "2024-05-01T14:18:52.679129Z"
    },
    "papermill": {
     "duration": 0.02805,
     "end_time": "2024-05-01T14:18:52.683047",
     "exception": false,
     "start_time": "2024-05-01T14:18:52.654997",
     "status": "completed"
    },
    "tags": []
   },
   "outputs": [],
   "source": [
    "mesafe['çok yakın'] = mantik.trimf(mesafe.universe, [0, 0, 10])\n",
    "mesafe['yakın'] = mantik.trimf(mesafe.universe, [5, 15, 25])\n",
    "mesafe['uzak'] = mantik.trimf(mesafe.universe, [20, 30, 40])\n",
    "mesafe['çok uzak'] = mantik.trimf(mesafe.universe, [35, 50, 50])\n",
    "\n",
    "hiz['çok yavaş'] = mantik.trapmf(hiz.universe, [0, 0, 20, 30])\n",
    "hiz['yavaş'] = mantik.trapmf(hiz.universe, [20, 30, 45, 55])\n",
    "hiz['hızlı'] = mantik.trapmf(hiz.universe, [45, 55, 70, 80])\n",
    "hiz['çok hızlı'] = mantik.trapmf(hiz.universe, [70, 80, 100,100])\n",
    "\n",
    "fren_basinci['çok düşük'] = mantik.trimf(fren_basinci.universe, [0, 20, 40])\n",
    "fren_basinci['düşük'] = mantik.trimf(fren_basinci.universe, [20, 40, 60])\n",
    "fren_basinci['yüksek'] = mantik.trimf(fren_basinci.universe, [40, 60, 80])\n",
    "fren_basinci['çok yüksek'] = mantik.trimf(fren_basinci.universe, [60, 100, 100])"
   ]
  },
  {
   "cell_type": "markdown",
   "id": "71b49399",
   "metadata": {
    "papermill": {
     "duration": 0.006289,
     "end_time": "2024-05-01T14:18:52.695903",
     "exception": false,
     "start_time": "2024-05-01T14:18:52.689614",
     "status": "completed"
    },
    "tags": []
   },
   "source": [
    "# **Integrating fuzzy logic model rules**"
   ]
  },
  {
   "cell_type": "code",
   "execution_count": 4,
   "id": "ce8af6cb",
   "metadata": {
    "execution": {
     "iopub.execute_input": "2024-05-01T14:18:52.710771Z",
     "iopub.status.busy": "2024-05-01T14:18:52.710347Z",
     "iopub.status.idle": "2024-05-01T14:18:52.721782Z",
     "shell.execute_reply": "2024-05-01T14:18:52.720785Z"
    },
    "papermill": {
     "duration": 0.021893,
     "end_time": "2024-05-01T14:18:52.724266",
     "exception": false,
     "start_time": "2024-05-01T14:18:52.702373",
     "status": "completed"
    },
    "tags": []
   },
   "outputs": [],
   "source": [
    "kural1 = kontrol.Rule(mesafe['çok yakın'] & hiz['çok yavaş'] , fren_basinci['çok yüksek'])\n",
    "kural2 = kontrol.Rule(mesafe['yakın'] & hiz['çok yavaş'] , fren_basinci['çok düşük'])\n",
    "kural3 = kontrol.Rule(mesafe['çok yakın'] & hiz['yavaş'] , fren_basinci['çok yüksek'])\n",
    "kural4 = kontrol.Rule(mesafe['yakın'] & hiz['yavaş'] , fren_basinci['düşük'])\n",
    "kural5 = kontrol.Rule(mesafe['uzak'] & hiz['yavaş'] , fren_basinci['çok düşük'])\n",
    "kural6 = kontrol.Rule(mesafe['çok yakın'] & hiz['hızlı'] , fren_basinci['çok yüksek'])\n",
    "kural7 = kontrol.Rule(mesafe['yakın'] & hiz['hızlı'] , fren_basinci['düşük'])\n",
    "kural8 = kontrol.Rule(mesafe['uzak'] & hiz['hızlı'] , fren_basinci['çok düşük'])\n",
    "kural9 = kontrol.Rule(mesafe['çok yakın'] & hiz['çok hızlı'] , fren_basinci['çok yüksek'])\n",
    "kural10 = kontrol.Rule(mesafe['yakın'] & hiz['çok hızlı'] , fren_basinci['yüksek'])\n",
    "kural11 = kontrol.Rule(mesafe['uzak'] & hiz['çok hızlı'] , fren_basinci['düşük'])\n",
    "kural12 = kontrol.Rule(mesafe['çok uzak'] & hiz['çok hızlı'] , fren_basinci['çok düşük'])"
   ]
  },
  {
   "cell_type": "markdown",
   "id": "cef2f6cb",
   "metadata": {
    "papermill": {
     "duration": 0.006286,
     "end_time": "2024-05-01T14:18:52.737192",
     "exception": false,
     "start_time": "2024-05-01T14:18:52.730906",
     "status": "completed"
    },
    "tags": []
   },
   "source": [
    "# **Creation and Simulation of the fuzzy control system**"
   ]
  },
  {
   "cell_type": "code",
   "execution_count": 5,
   "id": "9de29cee",
   "metadata": {
    "execution": {
     "iopub.execute_input": "2024-05-01T14:18:52.753566Z",
     "iopub.status.busy": "2024-05-01T14:18:52.752764Z",
     "iopub.status.idle": "2024-05-01T14:18:52.808589Z",
     "shell.execute_reply": "2024-05-01T14:18:52.807689Z"
    },
    "papermill": {
     "duration": 0.067398,
     "end_time": "2024-05-01T14:18:52.811288",
     "exception": false,
     "start_time": "2024-05-01T14:18:52.743890",
     "status": "completed"
    },
    "tags": []
   },
   "outputs": [],
   "source": [
    "fren_kontrol = kontrol.ControlSystem([kural1, kural2, kural3, kural4, kural5,kural6,\n",
    "                                       kural7, kural8, kural9, kural10, kural11, kural12])                                    \n",
    "frenleme = kontrol.ControlSystemSimulation(fren_kontrol)"
   ]
  },
  {
   "cell_type": "markdown",
   "id": "0cf4466e",
   "metadata": {
    "papermill": {
     "duration": 0.006341,
     "end_time": "2024-05-01T14:18:52.824671",
     "exception": false,
     "start_time": "2024-05-01T14:18:52.818330",
     "status": "completed"
    },
    "tags": []
   },
   "source": [
    "# **Evaluation of the fuzzy logic model**"
   ]
  },
  {
   "cell_type": "code",
   "execution_count": 6,
   "id": "bfb0ef16",
   "metadata": {
    "execution": {
     "iopub.execute_input": "2024-05-01T14:18:52.841297Z",
     "iopub.status.busy": "2024-05-01T14:18:52.840474Z",
     "iopub.status.idle": "2024-05-01T14:18:53.431175Z",
     "shell.execute_reply": "2024-05-01T14:18:53.429543Z"
    },
    "papermill": {
     "duration": 0.601003,
     "end_time": "2024-05-01T14:18:53.433125",
     "exception": true,
     "start_time": "2024-05-01T14:18:52.832122",
     "status": "failed"
    },
    "tags": []
   },
   "outputs": [
    {
     "ename": "StdinNotImplementedError",
     "evalue": "raw_input was called, but this frontend does not support input requests.",
     "output_type": "error",
     "traceback": [
      "\u001b[0;31m---------------------------------------------------------------------------\u001b[0m",
      "\u001b[0;31mStdinNotImplementedError\u001b[0m                  Traceback (most recent call last)",
      "Cell \u001b[0;32mIn[6], line 1\u001b[0m\n\u001b[0;32m----> 1\u001b[0m v \u001b[38;5;241m=\u001b[39m \u001b[38;5;28mint\u001b[39m(\u001b[38;5;28;43minput\u001b[39;49m\u001b[43m(\u001b[49m\u001b[38;5;124;43m\"\u001b[39;49m\u001b[38;5;124;43mHızı gir (0-100 km/h) : \u001b[39;49m\u001b[38;5;124;43m\"\u001b[39;49m\u001b[43m)\u001b[49m)\n\u001b[1;32m      2\u001b[0m s \u001b[38;5;241m=\u001b[39m \u001b[38;5;28mint\u001b[39m(\u001b[38;5;28minput\u001b[39m(\u001b[38;5;124m\"\u001b[39m\u001b[38;5;124mmesafeyi gir (m) : \u001b[39m\u001b[38;5;124m\"\u001b[39m))\n\u001b[1;32m      4\u001b[0m \u001b[38;5;28;01mif\u001b[39;00m (v\u001b[38;5;241m/\u001b[39m\u001b[38;5;241m2\u001b[39m \u001b[38;5;241m<\u001b[39m\u001b[38;5;241m=\u001b[39m s):\n",
      "File \u001b[0;32m/opt/conda/lib/python3.10/site-packages/ipykernel/kernelbase.py:1261\u001b[0m, in \u001b[0;36mKernel.raw_input\u001b[0;34m(self, prompt)\u001b[0m\n\u001b[1;32m   1259\u001b[0m \u001b[38;5;28;01mif\u001b[39;00m \u001b[38;5;129;01mnot\u001b[39;00m \u001b[38;5;28mself\u001b[39m\u001b[38;5;241m.\u001b[39m_allow_stdin:\n\u001b[1;32m   1260\u001b[0m     msg \u001b[38;5;241m=\u001b[39m \u001b[38;5;124m\"\u001b[39m\u001b[38;5;124mraw_input was called, but this frontend does not support input requests.\u001b[39m\u001b[38;5;124m\"\u001b[39m\n\u001b[0;32m-> 1261\u001b[0m     \u001b[38;5;28;01mraise\u001b[39;00m StdinNotImplementedError(msg)\n\u001b[1;32m   1262\u001b[0m \u001b[38;5;28;01mreturn\u001b[39;00m \u001b[38;5;28mself\u001b[39m\u001b[38;5;241m.\u001b[39m_input_request(\n\u001b[1;32m   1263\u001b[0m     \u001b[38;5;28mstr\u001b[39m(prompt),\n\u001b[1;32m   1264\u001b[0m     \u001b[38;5;28mself\u001b[39m\u001b[38;5;241m.\u001b[39m_parent_ident[\u001b[38;5;124m\"\u001b[39m\u001b[38;5;124mshell\u001b[39m\u001b[38;5;124m\"\u001b[39m],\n\u001b[1;32m   1265\u001b[0m     \u001b[38;5;28mself\u001b[39m\u001b[38;5;241m.\u001b[39mget_parent(\u001b[38;5;124m\"\u001b[39m\u001b[38;5;124mshell\u001b[39m\u001b[38;5;124m\"\u001b[39m),\n\u001b[1;32m   1266\u001b[0m     password\u001b[38;5;241m=\u001b[39m\u001b[38;5;28;01mFalse\u001b[39;00m,\n\u001b[1;32m   1267\u001b[0m )\n",
      "\u001b[0;31mStdinNotImplementedError\u001b[0m: raw_input was called, but this frontend does not support input requests."
     ]
    }
   ],
   "source": [
    "v = int(input(\"Hızı gir (0-100 km/h) : \"))\n",
    "s = int(input(\"mesafeyi gir (m) : \"))\n",
    "\n",
    "if (v/2 <= s):\n",
    "        print (\"fren basılması gerek yoktur\")\n",
    "else:\n",
    "    frenleme.input['hiz'] = v\n",
    "    frenleme.input['mesafe'] = s\n",
    "    \n",
    "    frenleme.compute()\n",
    "    print (\"fren basıncı (%): \", frenleme.output['fren_basinci'])\n",
    "    print (\"yeni hiz değeri: \", v-(v*frenleme.output['fren_basinci']/100))"
   ]
  }
 ],
 "metadata": {
  "kaggle": {
   "accelerator": "none",
   "dataSources": [],
   "dockerImageVersionId": 30698,
   "isGpuEnabled": false,
   "isInternetEnabled": true,
   "language": "python",
   "sourceType": "notebook"
  },
  "kernelspec": {
   "display_name": "Python 3",
   "language": "python",
   "name": "python3"
  },
  "language_info": {
   "codemirror_mode": {
    "name": "ipython",
    "version": 3
   },
   "file_extension": ".py",
   "mimetype": "text/x-python",
   "name": "python",
   "nbconvert_exporter": "python",
   "pygments_lexer": "ipython3",
   "version": "3.10.13"
  },
  "papermill": {
   "default_parameters": {},
   "duration": 27.086769,
   "end_time": "2024-05-01T14:18:53.960673",
   "environment_variables": {},
   "exception": true,
   "input_path": "__notebook__.ipynb",
   "output_path": "__notebook__.ipynb",
   "parameters": {},
   "start_time": "2024-05-01T14:18:26.873904",
   "version": "2.5.0"
  }
 },
 "nbformat": 4,
 "nbformat_minor": 5
}
